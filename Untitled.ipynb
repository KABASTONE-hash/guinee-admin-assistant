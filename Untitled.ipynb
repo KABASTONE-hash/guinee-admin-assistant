{
 "cells": [
  {
   "cell_type": "code",
   "execution_count": 1,
   "id": "9012bc50",
   "metadata": {},
   "outputs": [
    {
     "name": "stderr",
     "output_type": "stream",
     "text": [
      "2025-04-08 10:51:25.548 Thread 'MainThread': missing ScriptRunContext! This warning can be ignored when running in bare mode.\n",
      "2025-04-08 10:51:25.548 Thread 'MainThread': missing ScriptRunContext! This warning can be ignored when running in bare mode.\n",
      "2025-04-08 10:51:26.573 \n",
      "  \u001b[33m\u001b[1mWarning:\u001b[0m to view this Streamlit app on a browser, run it with the following\n",
      "  command:\n",
      "\n",
      "    streamlit run C:\\Users\\SekouKaba\\anaconda3\\Lib\\site-packages\\ipykernel_launcher.py [ARGUMENTS]\n",
      "2025-04-08 10:51:26.573 Thread 'MainThread': missing ScriptRunContext! This warning can be ignored when running in bare mode.\n",
      "2025-04-08 10:51:26.573 Thread 'MainThread': missing ScriptRunContext! This warning can be ignored when running in bare mode.\n",
      "2025-04-08 10:51:26.588 Thread 'MainThread': missing ScriptRunContext! This warning can be ignored when running in bare mode.\n",
      "2025-04-08 10:51:26.588 Thread 'MainThread': missing ScriptRunContext! This warning can be ignored when running in bare mode.\n",
      "2025-04-08 10:51:26.591 Thread 'MainThread': missing ScriptRunContext! This warning can be ignored when running in bare mode.\n",
      "2025-04-08 10:51:26.593 Thread 'MainThread': missing ScriptRunContext! This warning can be ignored when running in bare mode.\n",
      "2025-04-08 10:51:26.594 Thread 'MainThread': missing ScriptRunContext! This warning can be ignored when running in bare mode.\n",
      "2025-04-08 10:51:26.595 Thread 'MainThread': missing ScriptRunContext! This warning can be ignored when running in bare mode.\n",
      "2025-04-08 10:51:26.595 Thread 'MainThread': missing ScriptRunContext! This warning can be ignored when running in bare mode.\n",
      "2025-04-08 10:51:26.597 Session state does not function when running a script without `streamlit run`\n",
      "2025-04-08 10:51:26.597 Thread 'MainThread': missing ScriptRunContext! This warning can be ignored when running in bare mode.\n",
      "2025-04-08 10:51:26.598 Thread 'MainThread': missing ScriptRunContext! This warning can be ignored when running in bare mode.\n",
      "2025-04-08 10:51:26.598 Thread 'MainThread': missing ScriptRunContext! This warning can be ignored when running in bare mode.\n",
      "2025-04-08 10:51:26.602 Thread 'MainThread': missing ScriptRunContext! This warning can be ignored when running in bare mode.\n",
      "2025-04-08 10:51:26.602 Thread 'MainThread': missing ScriptRunContext! This warning can be ignored when running in bare mode.\n",
      "2025-04-08 10:51:26.604 Thread 'MainThread': missing ScriptRunContext! This warning can be ignored when running in bare mode.\n",
      "2025-04-08 10:51:26.604 Thread 'MainThread': missing ScriptRunContext! This warning can be ignored when running in bare mode.\n",
      "2025-04-08 10:51:26.604 Thread 'MainThread': missing ScriptRunContext! This warning can be ignored when running in bare mode.\n",
      "2025-04-08 10:51:26.608 Thread 'MainThread': missing ScriptRunContext! This warning can be ignored when running in bare mode.\n"
     ]
    }
   ],
   "source": [
    "import streamlit as st\n",
    "import openai\n",
    "import os\n",
    "\n",
    "# Configuration de la clé OpenAI\n",
    "openai.api_key = st.secrets[\"openai_api_key\"] if \"openai_api_key\" in st.secrets else os.getenv(\"OPENAI_API_KEY\")\n",
    "\n",
    "# Titre de l'application\n",
    "st.set_page_config(page_title=\"Assistant administratif - Guinée\", page_icon=\"🇬🇳\")\n",
    "st.title(\"🇬🇳 Assistant Administratif Guinéen\")\n",
    "st.write(\"Pose ta question sur une démarche administrative en Guinée. Tu recevras une réponse claire et adaptée à la réalité locale.\")\n",
    "\n",
    "# Champ de texte pour la question\n",
    "question = st.text_area(\"❓ Ta question :\", placeholder=\"Ex : Comment obtenir un extrait de naissance à Kankan ?\")\n",
    "\n",
    "# Prompt système personnalisé (rôle du LLM)\n",
    "SYSTEM_PROMPT = \"\"\"\n",
    "Tu es un assistant administratif guinéen. Ton rôle est d’expliquer simplement aux citoyens comment effectuer des démarches administratives en République de Guinée.\n",
    "\n",
    "Ta réponse doit inclure :\n",
    "- Les **étapes à suivre**\n",
    "- Les **documents nécessaires**\n",
    "- Les **lieux où aller** (avec exemples en Guinée)\n",
    "- Et les **coûts approximatifs** si connus.\n",
    "\n",
    "Utilise un langage **accessible**, clair et sans jargon technique.\n",
    "\"\"\"\n",
    "\n",
    "# Lorsque l'utilisateur clique sur le bouton\n",
    "if st.button(\"Obtenir de l'aide\") and question.strip():\n",
    "    with st.spinner(\"Consultation de l’administration…\"):\n",
    "        try:\n",
    "            response = openai.ChatCompletion.create(\n",
    "                model=\"gpt-3.5-turbo\",\n",
    "                messages=[\n",
    "                    {\"role\": \"system\", \"content\": SYSTEM_PROMPT},\n",
    "                    {\"role\": \"user\", \"content\": question}\n",
    "                ],\n",
    "                temperature=0.7,\n",
    "                max_tokens=800\n",
    "            )\n",
    "            answer = response['choices'][0]['message']['content']\n",
    "            st.success(\"Voici les informations utiles 👇\")\n",
    "            st.markdown(answer)\n",
    "        except Exception as e:\n",
    "            st.error(f\"Une erreur est survenue : {e}\")\n",
    "else:\n",
    "    st.info(\"Pose une question sur une démarche administrative pour commencer.\")\n"
   ]
  }
 ],
 "metadata": {
  "kernelspec": {
   "display_name": "Python 3 (ipykernel)",
   "language": "python",
   "name": "python3"
  },
  "language_info": {
   "codemirror_mode": {
    "name": "ipython",
    "version": 3
   },
   "file_extension": ".py",
   "mimetype": "text/x-python",
   "name": "python",
   "nbconvert_exporter": "python",
   "pygments_lexer": "ipython3",
   "version": "3.11.4"
  }
 },
 "nbformat": 4,
 "nbformat_minor": 5
}
